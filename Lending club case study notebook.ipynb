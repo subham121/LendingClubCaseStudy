{
 "cells": [
  {
   "cell_type": "code",
   "execution_count": 11,
   "metadata": {},
   "outputs": [],
   "source": [
    "#Importing the necessary modules\n",
    "import numpy as np\n",
    "import pandas as pd\n",
    "import matplotlib.pyplot as plt\n",
    "import seaborn as sns"
   ]
  },
  {
   "cell_type": "code",
   "execution_count": 12,
   "metadata": {},
   "outputs": [],
   "source": [
    "#supress scientific notation of values\n",
    "pd.options.display.float_format = '{:.2f}'.format\n",
    "#increasing max number of columns and rows  displayed with pandas.\n",
    "pd.set_option('display.max_columns', 150)\n",
    "pd.set_option('display.max_rows', 100)\n"
   ]
  },
  {
   "cell_type": "code",
   "execution_count": 13,
   "metadata": {},
   "outputs": [
    {
     "data": {
      "text/html": [
       "<div>\n",
       "<style scoped>\n",
       "    .dataframe tbody tr th:only-of-type {\n",
       "        vertical-align: middle;\n",
       "    }\n",
       "\n",
       "    .dataframe tbody tr th {\n",
       "        vertical-align: top;\n",
       "    }\n",
       "\n",
       "    .dataframe thead th {\n",
       "        text-align: right;\n",
       "    }\n",
       "</style>\n",
       "<table border=\"1\" class=\"dataframe\">\n",
       "  <thead>\n",
       "    <tr style=\"text-align: right;\">\n",
       "      <th></th>\n",
       "      <th>id</th>\n",
       "      <th>member_id</th>\n",
       "      <th>loan_amnt</th>\n",
       "      <th>funded_amnt</th>\n",
       "      <th>funded_amnt_inv</th>\n",
       "      <th>term</th>\n",
       "      <th>int_rate</th>\n",
       "      <th>installment</th>\n",
       "      <th>grade</th>\n",
       "      <th>sub_grade</th>\n",
       "      <th>emp_title</th>\n",
       "      <th>emp_length</th>\n",
       "      <th>home_ownership</th>\n",
       "      <th>annual_inc</th>\n",
       "      <th>verification_status</th>\n",
       "      <th>issue_d</th>\n",
       "      <th>loan_status</th>\n",
       "      <th>pymnt_plan</th>\n",
       "      <th>url</th>\n",
       "      <th>desc</th>\n",
       "      <th>purpose</th>\n",
       "      <th>title</th>\n",
       "      <th>zip_code</th>\n",
       "      <th>addr_state</th>\n",
       "      <th>dti</th>\n",
       "      <th>delinq_2yrs</th>\n",
       "      <th>earliest_cr_line</th>\n",
       "      <th>inq_last_6mths</th>\n",
       "      <th>mths_since_last_delinq</th>\n",
       "      <th>mths_since_last_record</th>\n",
       "      <th>open_acc</th>\n",
       "      <th>pub_rec</th>\n",
       "      <th>revol_bal</th>\n",
       "      <th>revol_util</th>\n",
       "      <th>total_acc</th>\n",
       "      <th>initial_list_status</th>\n",
       "      <th>out_prncp</th>\n",
       "      <th>out_prncp_inv</th>\n",
       "      <th>total_pymnt</th>\n",
       "      <th>total_pymnt_inv</th>\n",
       "      <th>total_rec_prncp</th>\n",
       "      <th>total_rec_int</th>\n",
       "      <th>total_rec_late_fee</th>\n",
       "      <th>recoveries</th>\n",
       "      <th>collection_recovery_fee</th>\n",
       "      <th>last_pymnt_d</th>\n",
       "      <th>last_pymnt_amnt</th>\n",
       "      <th>next_pymnt_d</th>\n",
       "      <th>last_credit_pull_d</th>\n",
       "      <th>collections_12_mths_ex_med</th>\n",
       "      <th>mths_since_last_major_derog</th>\n",
       "      <th>policy_code</th>\n",
       "      <th>application_type</th>\n",
       "      <th>annual_inc_joint</th>\n",
       "      <th>dti_joint</th>\n",
       "      <th>verification_status_joint</th>\n",
       "      <th>acc_now_delinq</th>\n",
       "      <th>tot_coll_amt</th>\n",
       "      <th>tot_cur_bal</th>\n",
       "      <th>open_acc_6m</th>\n",
       "      <th>open_il_6m</th>\n",
       "      <th>open_il_12m</th>\n",
       "      <th>open_il_24m</th>\n",
       "      <th>mths_since_rcnt_il</th>\n",
       "      <th>total_bal_il</th>\n",
       "      <th>il_util</th>\n",
       "      <th>open_rv_12m</th>\n",
       "      <th>open_rv_24m</th>\n",
       "      <th>max_bal_bc</th>\n",
       "      <th>all_util</th>\n",
       "      <th>total_rev_hi_lim</th>\n",
       "      <th>inq_fi</th>\n",
       "      <th>total_cu_tl</th>\n",
       "      <th>inq_last_12m</th>\n",
       "      <th>acc_open_past_24mths</th>\n",
       "      <th>avg_cur_bal</th>\n",
       "      <th>bc_open_to_buy</th>\n",
       "      <th>bc_util</th>\n",
       "      <th>chargeoff_within_12_mths</th>\n",
       "      <th>delinq_amnt</th>\n",
       "      <th>mo_sin_old_il_acct</th>\n",
       "      <th>mo_sin_old_rev_tl_op</th>\n",
       "      <th>mo_sin_rcnt_rev_tl_op</th>\n",
       "      <th>mo_sin_rcnt_tl</th>\n",
       "      <th>mort_acc</th>\n",
       "      <th>mths_since_recent_bc</th>\n",
       "      <th>mths_since_recent_bc_dlq</th>\n",
       "      <th>mths_since_recent_inq</th>\n",
       "      <th>mths_since_recent_revol_delinq</th>\n",
       "      <th>num_accts_ever_120_pd</th>\n",
       "      <th>num_actv_bc_tl</th>\n",
       "      <th>num_actv_rev_tl</th>\n",
       "      <th>num_bc_sats</th>\n",
       "      <th>num_bc_tl</th>\n",
       "      <th>num_il_tl</th>\n",
       "      <th>num_op_rev_tl</th>\n",
       "      <th>num_rev_accts</th>\n",
       "      <th>num_rev_tl_bal_gt_0</th>\n",
       "      <th>num_sats</th>\n",
       "      <th>num_tl_120dpd_2m</th>\n",
       "      <th>num_tl_30dpd</th>\n",
       "      <th>num_tl_90g_dpd_24m</th>\n",
       "      <th>num_tl_op_past_12m</th>\n",
       "      <th>pct_tl_nvr_dlq</th>\n",
       "      <th>percent_bc_gt_75</th>\n",
       "      <th>pub_rec_bankruptcies</th>\n",
       "      <th>tax_liens</th>\n",
       "      <th>tot_hi_cred_lim</th>\n",
       "      <th>total_bal_ex_mort</th>\n",
       "      <th>total_bc_limit</th>\n",
       "      <th>total_il_high_credit_limit</th>\n",
       "    </tr>\n",
       "  </thead>\n",
       "  <tbody>\n",
       "    <tr>\n",
       "      <th>0</th>\n",
       "      <td>1077501</td>\n",
       "      <td>1296599</td>\n",
       "      <td>5000</td>\n",
       "      <td>5000</td>\n",
       "      <td>4975.00</td>\n",
       "      <td>36 months</td>\n",
       "      <td>10.65%</td>\n",
       "      <td>162.87</td>\n",
       "      <td>B</td>\n",
       "      <td>B2</td>\n",
       "      <td>NaN</td>\n",
       "      <td>10+ years</td>\n",
       "      <td>RENT</td>\n",
       "      <td>24000.00</td>\n",
       "      <td>Verified</td>\n",
       "      <td>Dec-11</td>\n",
       "      <td>Fully Paid</td>\n",
       "      <td>n</td>\n",
       "      <td>https://lendingclub.com/browse/loanDetail.acti...</td>\n",
       "      <td>Borrower added on 12/22/11 &gt; I need to upgra...</td>\n",
       "      <td>credit_card</td>\n",
       "      <td>Computer</td>\n",
       "      <td>860xx</td>\n",
       "      <td>AZ</td>\n",
       "      <td>27.65</td>\n",
       "      <td>0</td>\n",
       "      <td>Jan-85</td>\n",
       "      <td>1</td>\n",
       "      <td>nan</td>\n",
       "      <td>nan</td>\n",
       "      <td>3</td>\n",
       "      <td>0</td>\n",
       "      <td>13648</td>\n",
       "      <td>83.70%</td>\n",
       "      <td>9</td>\n",
       "      <td>f</td>\n",
       "      <td>0.00</td>\n",
       "      <td>0.00</td>\n",
       "      <td>5863.16</td>\n",
       "      <td>5833.84</td>\n",
       "      <td>5000.00</td>\n",
       "      <td>863.16</td>\n",
       "      <td>0.00</td>\n",
       "      <td>0.00</td>\n",
       "      <td>0.00</td>\n",
       "      <td>Jan-15</td>\n",
       "      <td>171.62</td>\n",
       "      <td>NaN</td>\n",
       "      <td>May-16</td>\n",
       "      <td>0.00</td>\n",
       "      <td>nan</td>\n",
       "      <td>1</td>\n",
       "      <td>INDIVIDUAL</td>\n",
       "      <td>nan</td>\n",
       "      <td>nan</td>\n",
       "      <td>nan</td>\n",
       "      <td>0</td>\n",
       "      <td>nan</td>\n",
       "      <td>nan</td>\n",
       "      <td>nan</td>\n",
       "      <td>nan</td>\n",
       "      <td>nan</td>\n",
       "      <td>nan</td>\n",
       "      <td>nan</td>\n",
       "      <td>nan</td>\n",
       "      <td>nan</td>\n",
       "      <td>nan</td>\n",
       "      <td>nan</td>\n",
       "      <td>nan</td>\n",
       "      <td>nan</td>\n",
       "      <td>nan</td>\n",
       "      <td>nan</td>\n",
       "      <td>nan</td>\n",
       "      <td>nan</td>\n",
       "      <td>nan</td>\n",
       "      <td>nan</td>\n",
       "      <td>nan</td>\n",
       "      <td>nan</td>\n",
       "      <td>0.00</td>\n",
       "      <td>0</td>\n",
       "      <td>nan</td>\n",
       "      <td>nan</td>\n",
       "      <td>nan</td>\n",
       "      <td>nan</td>\n",
       "      <td>nan</td>\n",
       "      <td>nan</td>\n",
       "      <td>nan</td>\n",
       "      <td>nan</td>\n",
       "      <td>nan</td>\n",
       "      <td>nan</td>\n",
       "      <td>nan</td>\n",
       "      <td>nan</td>\n",
       "      <td>nan</td>\n",
       "      <td>nan</td>\n",
       "      <td>nan</td>\n",
       "      <td>nan</td>\n",
       "      <td>nan</td>\n",
       "      <td>nan</td>\n",
       "      <td>nan</td>\n",
       "      <td>nan</td>\n",
       "      <td>nan</td>\n",
       "      <td>nan</td>\n",
       "      <td>nan</td>\n",
       "      <td>nan</td>\n",
       "      <td>nan</td>\n",
       "      <td>0.00</td>\n",
       "      <td>0.00</td>\n",
       "      <td>nan</td>\n",
       "      <td>nan</td>\n",
       "      <td>nan</td>\n",
       "      <td>nan</td>\n",
       "    </tr>\n",
       "    <tr>\n",
       "      <th>1</th>\n",
       "      <td>1077430</td>\n",
       "      <td>1314167</td>\n",
       "      <td>2500</td>\n",
       "      <td>2500</td>\n",
       "      <td>2500.00</td>\n",
       "      <td>60 months</td>\n",
       "      <td>15.27%</td>\n",
       "      <td>59.83</td>\n",
       "      <td>C</td>\n",
       "      <td>C4</td>\n",
       "      <td>Ryder</td>\n",
       "      <td>&lt; 1 year</td>\n",
       "      <td>RENT</td>\n",
       "      <td>30000.00</td>\n",
       "      <td>Source Verified</td>\n",
       "      <td>Dec-11</td>\n",
       "      <td>Charged Off</td>\n",
       "      <td>n</td>\n",
       "      <td>https://lendingclub.com/browse/loanDetail.acti...</td>\n",
       "      <td>Borrower added on 12/22/11 &gt; I plan to use t...</td>\n",
       "      <td>car</td>\n",
       "      <td>bike</td>\n",
       "      <td>309xx</td>\n",
       "      <td>GA</td>\n",
       "      <td>1.00</td>\n",
       "      <td>0</td>\n",
       "      <td>Apr-99</td>\n",
       "      <td>5</td>\n",
       "      <td>nan</td>\n",
       "      <td>nan</td>\n",
       "      <td>3</td>\n",
       "      <td>0</td>\n",
       "      <td>1687</td>\n",
       "      <td>9.40%</td>\n",
       "      <td>4</td>\n",
       "      <td>f</td>\n",
       "      <td>0.00</td>\n",
       "      <td>0.00</td>\n",
       "      <td>1008.71</td>\n",
       "      <td>1008.71</td>\n",
       "      <td>456.46</td>\n",
       "      <td>435.17</td>\n",
       "      <td>0.00</td>\n",
       "      <td>117.08</td>\n",
       "      <td>1.11</td>\n",
       "      <td>Apr-13</td>\n",
       "      <td>119.66</td>\n",
       "      <td>NaN</td>\n",
       "      <td>Sep-13</td>\n",
       "      <td>0.00</td>\n",
       "      <td>nan</td>\n",
       "      <td>1</td>\n",
       "      <td>INDIVIDUAL</td>\n",
       "      <td>nan</td>\n",
       "      <td>nan</td>\n",
       "      <td>nan</td>\n",
       "      <td>0</td>\n",
       "      <td>nan</td>\n",
       "      <td>nan</td>\n",
       "      <td>nan</td>\n",
       "      <td>nan</td>\n",
       "      <td>nan</td>\n",
       "      <td>nan</td>\n",
       "      <td>nan</td>\n",
       "      <td>nan</td>\n",
       "      <td>nan</td>\n",
       "      <td>nan</td>\n",
       "      <td>nan</td>\n",
       "      <td>nan</td>\n",
       "      <td>nan</td>\n",
       "      <td>nan</td>\n",
       "      <td>nan</td>\n",
       "      <td>nan</td>\n",
       "      <td>nan</td>\n",
       "      <td>nan</td>\n",
       "      <td>nan</td>\n",
       "      <td>nan</td>\n",
       "      <td>nan</td>\n",
       "      <td>0.00</td>\n",
       "      <td>0</td>\n",
       "      <td>nan</td>\n",
       "      <td>nan</td>\n",
       "      <td>nan</td>\n",
       "      <td>nan</td>\n",
       "      <td>nan</td>\n",
       "      <td>nan</td>\n",
       "      <td>nan</td>\n",
       "      <td>nan</td>\n",
       "      <td>nan</td>\n",
       "      <td>nan</td>\n",
       "      <td>nan</td>\n",
       "      <td>nan</td>\n",
       "      <td>nan</td>\n",
       "      <td>nan</td>\n",
       "      <td>nan</td>\n",
       "      <td>nan</td>\n",
       "      <td>nan</td>\n",
       "      <td>nan</td>\n",
       "      <td>nan</td>\n",
       "      <td>nan</td>\n",
       "      <td>nan</td>\n",
       "      <td>nan</td>\n",
       "      <td>nan</td>\n",
       "      <td>nan</td>\n",
       "      <td>nan</td>\n",
       "      <td>0.00</td>\n",
       "      <td>0.00</td>\n",
       "      <td>nan</td>\n",
       "      <td>nan</td>\n",
       "      <td>nan</td>\n",
       "      <td>nan</td>\n",
       "    </tr>\n",
       "    <tr>\n",
       "      <th>2</th>\n",
       "      <td>1077175</td>\n",
       "      <td>1313524</td>\n",
       "      <td>2400</td>\n",
       "      <td>2400</td>\n",
       "      <td>2400.00</td>\n",
       "      <td>36 months</td>\n",
       "      <td>15.96%</td>\n",
       "      <td>84.33</td>\n",
       "      <td>C</td>\n",
       "      <td>C5</td>\n",
       "      <td>NaN</td>\n",
       "      <td>10+ years</td>\n",
       "      <td>RENT</td>\n",
       "      <td>12252.00</td>\n",
       "      <td>Not Verified</td>\n",
       "      <td>Dec-11</td>\n",
       "      <td>Fully Paid</td>\n",
       "      <td>n</td>\n",
       "      <td>https://lendingclub.com/browse/loanDetail.acti...</td>\n",
       "      <td>NaN</td>\n",
       "      <td>small_business</td>\n",
       "      <td>real estate business</td>\n",
       "      <td>606xx</td>\n",
       "      <td>IL</td>\n",
       "      <td>8.72</td>\n",
       "      <td>0</td>\n",
       "      <td>Nov-01</td>\n",
       "      <td>2</td>\n",
       "      <td>nan</td>\n",
       "      <td>nan</td>\n",
       "      <td>2</td>\n",
       "      <td>0</td>\n",
       "      <td>2956</td>\n",
       "      <td>98.50%</td>\n",
       "      <td>10</td>\n",
       "      <td>f</td>\n",
       "      <td>0.00</td>\n",
       "      <td>0.00</td>\n",
       "      <td>3005.67</td>\n",
       "      <td>3005.67</td>\n",
       "      <td>2400.00</td>\n",
       "      <td>605.67</td>\n",
       "      <td>0.00</td>\n",
       "      <td>0.00</td>\n",
       "      <td>0.00</td>\n",
       "      <td>Jun-14</td>\n",
       "      <td>649.91</td>\n",
       "      <td>NaN</td>\n",
       "      <td>May-16</td>\n",
       "      <td>0.00</td>\n",
       "      <td>nan</td>\n",
       "      <td>1</td>\n",
       "      <td>INDIVIDUAL</td>\n",
       "      <td>nan</td>\n",
       "      <td>nan</td>\n",
       "      <td>nan</td>\n",
       "      <td>0</td>\n",
       "      <td>nan</td>\n",
       "      <td>nan</td>\n",
       "      <td>nan</td>\n",
       "      <td>nan</td>\n",
       "      <td>nan</td>\n",
       "      <td>nan</td>\n",
       "      <td>nan</td>\n",
       "      <td>nan</td>\n",
       "      <td>nan</td>\n",
       "      <td>nan</td>\n",
       "      <td>nan</td>\n",
       "      <td>nan</td>\n",
       "      <td>nan</td>\n",
       "      <td>nan</td>\n",
       "      <td>nan</td>\n",
       "      <td>nan</td>\n",
       "      <td>nan</td>\n",
       "      <td>nan</td>\n",
       "      <td>nan</td>\n",
       "      <td>nan</td>\n",
       "      <td>nan</td>\n",
       "      <td>0.00</td>\n",
       "      <td>0</td>\n",
       "      <td>nan</td>\n",
       "      <td>nan</td>\n",
       "      <td>nan</td>\n",
       "      <td>nan</td>\n",
       "      <td>nan</td>\n",
       "      <td>nan</td>\n",
       "      <td>nan</td>\n",
       "      <td>nan</td>\n",
       "      <td>nan</td>\n",
       "      <td>nan</td>\n",
       "      <td>nan</td>\n",
       "      <td>nan</td>\n",
       "      <td>nan</td>\n",
       "      <td>nan</td>\n",
       "      <td>nan</td>\n",
       "      <td>nan</td>\n",
       "      <td>nan</td>\n",
       "      <td>nan</td>\n",
       "      <td>nan</td>\n",
       "      <td>nan</td>\n",
       "      <td>nan</td>\n",
       "      <td>nan</td>\n",
       "      <td>nan</td>\n",
       "      <td>nan</td>\n",
       "      <td>nan</td>\n",
       "      <td>0.00</td>\n",
       "      <td>0.00</td>\n",
       "      <td>nan</td>\n",
       "      <td>nan</td>\n",
       "      <td>nan</td>\n",
       "      <td>nan</td>\n",
       "    </tr>\n",
       "    <tr>\n",
       "      <th>3</th>\n",
       "      <td>1076863</td>\n",
       "      <td>1277178</td>\n",
       "      <td>10000</td>\n",
       "      <td>10000</td>\n",
       "      <td>10000.00</td>\n",
       "      <td>36 months</td>\n",
       "      <td>13.49%</td>\n",
       "      <td>339.31</td>\n",
       "      <td>C</td>\n",
       "      <td>C1</td>\n",
       "      <td>AIR RESOURCES BOARD</td>\n",
       "      <td>10+ years</td>\n",
       "      <td>RENT</td>\n",
       "      <td>49200.00</td>\n",
       "      <td>Source Verified</td>\n",
       "      <td>Dec-11</td>\n",
       "      <td>Fully Paid</td>\n",
       "      <td>n</td>\n",
       "      <td>https://lendingclub.com/browse/loanDetail.acti...</td>\n",
       "      <td>Borrower added on 12/21/11 &gt; to pay for prop...</td>\n",
       "      <td>other</td>\n",
       "      <td>personel</td>\n",
       "      <td>917xx</td>\n",
       "      <td>CA</td>\n",
       "      <td>20.00</td>\n",
       "      <td>0</td>\n",
       "      <td>Feb-96</td>\n",
       "      <td>1</td>\n",
       "      <td>35.00</td>\n",
       "      <td>nan</td>\n",
       "      <td>10</td>\n",
       "      <td>0</td>\n",
       "      <td>5598</td>\n",
       "      <td>21%</td>\n",
       "      <td>37</td>\n",
       "      <td>f</td>\n",
       "      <td>0.00</td>\n",
       "      <td>0.00</td>\n",
       "      <td>12231.89</td>\n",
       "      <td>12231.89</td>\n",
       "      <td>10000.00</td>\n",
       "      <td>2214.92</td>\n",
       "      <td>16.97</td>\n",
       "      <td>0.00</td>\n",
       "      <td>0.00</td>\n",
       "      <td>Jan-15</td>\n",
       "      <td>357.48</td>\n",
       "      <td>NaN</td>\n",
       "      <td>Apr-16</td>\n",
       "      <td>0.00</td>\n",
       "      <td>nan</td>\n",
       "      <td>1</td>\n",
       "      <td>INDIVIDUAL</td>\n",
       "      <td>nan</td>\n",
       "      <td>nan</td>\n",
       "      <td>nan</td>\n",
       "      <td>0</td>\n",
       "      <td>nan</td>\n",
       "      <td>nan</td>\n",
       "      <td>nan</td>\n",
       "      <td>nan</td>\n",
       "      <td>nan</td>\n",
       "      <td>nan</td>\n",
       "      <td>nan</td>\n",
       "      <td>nan</td>\n",
       "      <td>nan</td>\n",
       "      <td>nan</td>\n",
       "      <td>nan</td>\n",
       "      <td>nan</td>\n",
       "      <td>nan</td>\n",
       "      <td>nan</td>\n",
       "      <td>nan</td>\n",
       "      <td>nan</td>\n",
       "      <td>nan</td>\n",
       "      <td>nan</td>\n",
       "      <td>nan</td>\n",
       "      <td>nan</td>\n",
       "      <td>nan</td>\n",
       "      <td>0.00</td>\n",
       "      <td>0</td>\n",
       "      <td>nan</td>\n",
       "      <td>nan</td>\n",
       "      <td>nan</td>\n",
       "      <td>nan</td>\n",
       "      <td>nan</td>\n",
       "      <td>nan</td>\n",
       "      <td>nan</td>\n",
       "      <td>nan</td>\n",
       "      <td>nan</td>\n",
       "      <td>nan</td>\n",
       "      <td>nan</td>\n",
       "      <td>nan</td>\n",
       "      <td>nan</td>\n",
       "      <td>nan</td>\n",
       "      <td>nan</td>\n",
       "      <td>nan</td>\n",
       "      <td>nan</td>\n",
       "      <td>nan</td>\n",
       "      <td>nan</td>\n",
       "      <td>nan</td>\n",
       "      <td>nan</td>\n",
       "      <td>nan</td>\n",
       "      <td>nan</td>\n",
       "      <td>nan</td>\n",
       "      <td>nan</td>\n",
       "      <td>0.00</td>\n",
       "      <td>0.00</td>\n",
       "      <td>nan</td>\n",
       "      <td>nan</td>\n",
       "      <td>nan</td>\n",
       "      <td>nan</td>\n",
       "    </tr>\n",
       "    <tr>\n",
       "      <th>4</th>\n",
       "      <td>1075358</td>\n",
       "      <td>1311748</td>\n",
       "      <td>3000</td>\n",
       "      <td>3000</td>\n",
       "      <td>3000.00</td>\n",
       "      <td>60 months</td>\n",
       "      <td>12.69%</td>\n",
       "      <td>67.79</td>\n",
       "      <td>B</td>\n",
       "      <td>B5</td>\n",
       "      <td>University Medical Group</td>\n",
       "      <td>1 year</td>\n",
       "      <td>RENT</td>\n",
       "      <td>80000.00</td>\n",
       "      <td>Source Verified</td>\n",
       "      <td>Dec-11</td>\n",
       "      <td>Current</td>\n",
       "      <td>n</td>\n",
       "      <td>https://lendingclub.com/browse/loanDetail.acti...</td>\n",
       "      <td>Borrower added on 12/21/11 &gt; I plan on combi...</td>\n",
       "      <td>other</td>\n",
       "      <td>Personal</td>\n",
       "      <td>972xx</td>\n",
       "      <td>OR</td>\n",
       "      <td>17.94</td>\n",
       "      <td>0</td>\n",
       "      <td>Jan-96</td>\n",
       "      <td>0</td>\n",
       "      <td>38.00</td>\n",
       "      <td>nan</td>\n",
       "      <td>15</td>\n",
       "      <td>0</td>\n",
       "      <td>27783</td>\n",
       "      <td>53.90%</td>\n",
       "      <td>38</td>\n",
       "      <td>f</td>\n",
       "      <td>524.06</td>\n",
       "      <td>524.06</td>\n",
       "      <td>3513.33</td>\n",
       "      <td>3513.33</td>\n",
       "      <td>2475.94</td>\n",
       "      <td>1037.39</td>\n",
       "      <td>0.00</td>\n",
       "      <td>0.00</td>\n",
       "      <td>0.00</td>\n",
       "      <td>May-16</td>\n",
       "      <td>67.79</td>\n",
       "      <td>Jun-16</td>\n",
       "      <td>May-16</td>\n",
       "      <td>0.00</td>\n",
       "      <td>nan</td>\n",
       "      <td>1</td>\n",
       "      <td>INDIVIDUAL</td>\n",
       "      <td>nan</td>\n",
       "      <td>nan</td>\n",
       "      <td>nan</td>\n",
       "      <td>0</td>\n",
       "      <td>nan</td>\n",
       "      <td>nan</td>\n",
       "      <td>nan</td>\n",
       "      <td>nan</td>\n",
       "      <td>nan</td>\n",
       "      <td>nan</td>\n",
       "      <td>nan</td>\n",
       "      <td>nan</td>\n",
       "      <td>nan</td>\n",
       "      <td>nan</td>\n",
       "      <td>nan</td>\n",
       "      <td>nan</td>\n",
       "      <td>nan</td>\n",
       "      <td>nan</td>\n",
       "      <td>nan</td>\n",
       "      <td>nan</td>\n",
       "      <td>nan</td>\n",
       "      <td>nan</td>\n",
       "      <td>nan</td>\n",
       "      <td>nan</td>\n",
       "      <td>nan</td>\n",
       "      <td>0.00</td>\n",
       "      <td>0</td>\n",
       "      <td>nan</td>\n",
       "      <td>nan</td>\n",
       "      <td>nan</td>\n",
       "      <td>nan</td>\n",
       "      <td>nan</td>\n",
       "      <td>nan</td>\n",
       "      <td>nan</td>\n",
       "      <td>nan</td>\n",
       "      <td>nan</td>\n",
       "      <td>nan</td>\n",
       "      <td>nan</td>\n",
       "      <td>nan</td>\n",
       "      <td>nan</td>\n",
       "      <td>nan</td>\n",
       "      <td>nan</td>\n",
       "      <td>nan</td>\n",
       "      <td>nan</td>\n",
       "      <td>nan</td>\n",
       "      <td>nan</td>\n",
       "      <td>nan</td>\n",
       "      <td>nan</td>\n",
       "      <td>nan</td>\n",
       "      <td>nan</td>\n",
       "      <td>nan</td>\n",
       "      <td>nan</td>\n",
       "      <td>0.00</td>\n",
       "      <td>0.00</td>\n",
       "      <td>nan</td>\n",
       "      <td>nan</td>\n",
       "      <td>nan</td>\n",
       "      <td>nan</td>\n",
       "    </tr>\n",
       "  </tbody>\n",
       "</table>\n",
       "</div>"
      ],
      "text/plain": [
       "        id  member_id  loan_amnt  funded_amnt  funded_amnt_inv        term  \\\n",
       "0  1077501    1296599       5000         5000          4975.00   36 months   \n",
       "1  1077430    1314167       2500         2500          2500.00   60 months   \n",
       "2  1077175    1313524       2400         2400          2400.00   36 months   \n",
       "3  1076863    1277178      10000        10000         10000.00   36 months   \n",
       "4  1075358    1311748       3000         3000          3000.00   60 months   \n",
       "\n",
       "  int_rate  installment grade sub_grade                 emp_title emp_length  \\\n",
       "0   10.65%       162.87     B        B2                       NaN  10+ years   \n",
       "1   15.27%        59.83     C        C4                     Ryder   < 1 year   \n",
       "2   15.96%        84.33     C        C5                       NaN  10+ years   \n",
       "3   13.49%       339.31     C        C1       AIR RESOURCES BOARD  10+ years   \n",
       "4   12.69%        67.79     B        B5  University Medical Group     1 year   \n",
       "\n",
       "  home_ownership  annual_inc verification_status issue_d  loan_status  \\\n",
       "0           RENT    24000.00            Verified  Dec-11   Fully Paid   \n",
       "1           RENT    30000.00     Source Verified  Dec-11  Charged Off   \n",
       "2           RENT    12252.00        Not Verified  Dec-11   Fully Paid   \n",
       "3           RENT    49200.00     Source Verified  Dec-11   Fully Paid   \n",
       "4           RENT    80000.00     Source Verified  Dec-11      Current   \n",
       "\n",
       "  pymnt_plan                                                url  \\\n",
       "0          n  https://lendingclub.com/browse/loanDetail.acti...   \n",
       "1          n  https://lendingclub.com/browse/loanDetail.acti...   \n",
       "2          n  https://lendingclub.com/browse/loanDetail.acti...   \n",
       "3          n  https://lendingclub.com/browse/loanDetail.acti...   \n",
       "4          n  https://lendingclub.com/browse/loanDetail.acti...   \n",
       "\n",
       "                                                desc         purpose  \\\n",
       "0    Borrower added on 12/22/11 > I need to upgra...     credit_card   \n",
       "1    Borrower added on 12/22/11 > I plan to use t...             car   \n",
       "2                                                NaN  small_business   \n",
       "3    Borrower added on 12/21/11 > to pay for prop...           other   \n",
       "4    Borrower added on 12/21/11 > I plan on combi...           other   \n",
       "\n",
       "                  title zip_code addr_state   dti  delinq_2yrs  \\\n",
       "0              Computer    860xx         AZ 27.65            0   \n",
       "1                  bike    309xx         GA  1.00            0   \n",
       "2  real estate business    606xx         IL  8.72            0   \n",
       "3              personel    917xx         CA 20.00            0   \n",
       "4              Personal    972xx         OR 17.94            0   \n",
       "\n",
       "  earliest_cr_line  inq_last_6mths  mths_since_last_delinq  \\\n",
       "0           Jan-85               1                     nan   \n",
       "1           Apr-99               5                     nan   \n",
       "2           Nov-01               2                     nan   \n",
       "3           Feb-96               1                   35.00   \n",
       "4           Jan-96               0                   38.00   \n",
       "\n",
       "   mths_since_last_record  open_acc  pub_rec  revol_bal revol_util  total_acc  \\\n",
       "0                     nan         3        0      13648     83.70%          9   \n",
       "1                     nan         3        0       1687      9.40%          4   \n",
       "2                     nan         2        0       2956     98.50%         10   \n",
       "3                     nan        10        0       5598        21%         37   \n",
       "4                     nan        15        0      27783     53.90%         38   \n",
       "\n",
       "  initial_list_status  out_prncp  out_prncp_inv  total_pymnt  total_pymnt_inv  \\\n",
       "0                   f       0.00           0.00      5863.16          5833.84   \n",
       "1                   f       0.00           0.00      1008.71          1008.71   \n",
       "2                   f       0.00           0.00      3005.67          3005.67   \n",
       "3                   f       0.00           0.00     12231.89         12231.89   \n",
       "4                   f     524.06         524.06      3513.33          3513.33   \n",
       "\n",
       "   total_rec_prncp  total_rec_int  total_rec_late_fee  recoveries  \\\n",
       "0          5000.00         863.16                0.00        0.00   \n",
       "1           456.46         435.17                0.00      117.08   \n",
       "2          2400.00         605.67                0.00        0.00   \n",
       "3         10000.00        2214.92               16.97        0.00   \n",
       "4          2475.94        1037.39                0.00        0.00   \n",
       "\n",
       "   collection_recovery_fee last_pymnt_d  last_pymnt_amnt next_pymnt_d  \\\n",
       "0                     0.00       Jan-15           171.62          NaN   \n",
       "1                     1.11       Apr-13           119.66          NaN   \n",
       "2                     0.00       Jun-14           649.91          NaN   \n",
       "3                     0.00       Jan-15           357.48          NaN   \n",
       "4                     0.00       May-16            67.79       Jun-16   \n",
       "\n",
       "  last_credit_pull_d  collections_12_mths_ex_med  mths_since_last_major_derog  \\\n",
       "0             May-16                        0.00                          nan   \n",
       "1             Sep-13                        0.00                          nan   \n",
       "2             May-16                        0.00                          nan   \n",
       "3             Apr-16                        0.00                          nan   \n",
       "4             May-16                        0.00                          nan   \n",
       "\n",
       "   policy_code application_type  annual_inc_joint  dti_joint  \\\n",
       "0            1       INDIVIDUAL               nan        nan   \n",
       "1            1       INDIVIDUAL               nan        nan   \n",
       "2            1       INDIVIDUAL               nan        nan   \n",
       "3            1       INDIVIDUAL               nan        nan   \n",
       "4            1       INDIVIDUAL               nan        nan   \n",
       "\n",
       "   verification_status_joint  acc_now_delinq  tot_coll_amt  tot_cur_bal  \\\n",
       "0                        nan               0           nan          nan   \n",
       "1                        nan               0           nan          nan   \n",
       "2                        nan               0           nan          nan   \n",
       "3                        nan               0           nan          nan   \n",
       "4                        nan               0           nan          nan   \n",
       "\n",
       "   open_acc_6m  open_il_6m  open_il_12m  open_il_24m  mths_since_rcnt_il  \\\n",
       "0          nan         nan          nan          nan                 nan   \n",
       "1          nan         nan          nan          nan                 nan   \n",
       "2          nan         nan          nan          nan                 nan   \n",
       "3          nan         nan          nan          nan                 nan   \n",
       "4          nan         nan          nan          nan                 nan   \n",
       "\n",
       "   total_bal_il  il_util  open_rv_12m  open_rv_24m  max_bal_bc  all_util  \\\n",
       "0           nan      nan          nan          nan         nan       nan   \n",
       "1           nan      nan          nan          nan         nan       nan   \n",
       "2           nan      nan          nan          nan         nan       nan   \n",
       "3           nan      nan          nan          nan         nan       nan   \n",
       "4           nan      nan          nan          nan         nan       nan   \n",
       "\n",
       "   total_rev_hi_lim  inq_fi  total_cu_tl  inq_last_12m  acc_open_past_24mths  \\\n",
       "0               nan     nan          nan           nan                   nan   \n",
       "1               nan     nan          nan           nan                   nan   \n",
       "2               nan     nan          nan           nan                   nan   \n",
       "3               nan     nan          nan           nan                   nan   \n",
       "4               nan     nan          nan           nan                   nan   \n",
       "\n",
       "   avg_cur_bal  bc_open_to_buy  bc_util  chargeoff_within_12_mths  \\\n",
       "0          nan             nan      nan                      0.00   \n",
       "1          nan             nan      nan                      0.00   \n",
       "2          nan             nan      nan                      0.00   \n",
       "3          nan             nan      nan                      0.00   \n",
       "4          nan             nan      nan                      0.00   \n",
       "\n",
       "   delinq_amnt  mo_sin_old_il_acct  mo_sin_old_rev_tl_op  \\\n",
       "0            0                 nan                   nan   \n",
       "1            0                 nan                   nan   \n",
       "2            0                 nan                   nan   \n",
       "3            0                 nan                   nan   \n",
       "4            0                 nan                   nan   \n",
       "\n",
       "   mo_sin_rcnt_rev_tl_op  mo_sin_rcnt_tl  mort_acc  mths_since_recent_bc  \\\n",
       "0                    nan             nan       nan                   nan   \n",
       "1                    nan             nan       nan                   nan   \n",
       "2                    nan             nan       nan                   nan   \n",
       "3                    nan             nan       nan                   nan   \n",
       "4                    nan             nan       nan                   nan   \n",
       "\n",
       "   mths_since_recent_bc_dlq  mths_since_recent_inq  \\\n",
       "0                       nan                    nan   \n",
       "1                       nan                    nan   \n",
       "2                       nan                    nan   \n",
       "3                       nan                    nan   \n",
       "4                       nan                    nan   \n",
       "\n",
       "   mths_since_recent_revol_delinq  num_accts_ever_120_pd  num_actv_bc_tl  \\\n",
       "0                             nan                    nan             nan   \n",
       "1                             nan                    nan             nan   \n",
       "2                             nan                    nan             nan   \n",
       "3                             nan                    nan             nan   \n",
       "4                             nan                    nan             nan   \n",
       "\n",
       "   num_actv_rev_tl  num_bc_sats  num_bc_tl  num_il_tl  num_op_rev_tl  \\\n",
       "0              nan          nan        nan        nan            nan   \n",
       "1              nan          nan        nan        nan            nan   \n",
       "2              nan          nan        nan        nan            nan   \n",
       "3              nan          nan        nan        nan            nan   \n",
       "4              nan          nan        nan        nan            nan   \n",
       "\n",
       "   num_rev_accts  num_rev_tl_bal_gt_0  num_sats  num_tl_120dpd_2m  \\\n",
       "0            nan                  nan       nan               nan   \n",
       "1            nan                  nan       nan               nan   \n",
       "2            nan                  nan       nan               nan   \n",
       "3            nan                  nan       nan               nan   \n",
       "4            nan                  nan       nan               nan   \n",
       "\n",
       "   num_tl_30dpd  num_tl_90g_dpd_24m  num_tl_op_past_12m  pct_tl_nvr_dlq  \\\n",
       "0           nan                 nan                 nan             nan   \n",
       "1           nan                 nan                 nan             nan   \n",
       "2           nan                 nan                 nan             nan   \n",
       "3           nan                 nan                 nan             nan   \n",
       "4           nan                 nan                 nan             nan   \n",
       "\n",
       "   percent_bc_gt_75  pub_rec_bankruptcies  tax_liens  tot_hi_cred_lim  \\\n",
       "0               nan                  0.00       0.00              nan   \n",
       "1               nan                  0.00       0.00              nan   \n",
       "2               nan                  0.00       0.00              nan   \n",
       "3               nan                  0.00       0.00              nan   \n",
       "4               nan                  0.00       0.00              nan   \n",
       "\n",
       "   total_bal_ex_mort  total_bc_limit  total_il_high_credit_limit  \n",
       "0                nan             nan                         nan  \n",
       "1                nan             nan                         nan  \n",
       "2                nan             nan                         nan  \n",
       "3                nan             nan                         nan  \n",
       "4                nan             nan                         nan  "
      ]
     },
     "execution_count": 13,
     "metadata": {},
     "output_type": "execute_result"
    }
   ],
   "source": [
    "#Loading data set file in to data frame.\n",
    "file_path = 'C:/Users/sai sudeep/Desktop/Masters/loan/loan.csv'\n",
    "#using low memory flag to load columns with multiple data types.\n",
    "data = pd.read_csv(file_path, low_memory=False)\n",
    "data.head()"
   ]
  },
  {
   "cell_type": "code",
   "execution_count": 14,
   "metadata": {},
   "outputs": [
    {
     "data": {
      "text/plain": [
       "(39717, 111)"
      ]
     },
     "execution_count": 14,
     "metadata": {},
     "output_type": "execute_result"
    }
   ],
   "source": [
    "#shape of data frame\n",
    "data.shape"
   ]
  },
  {
   "cell_type": "code",
   "execution_count": 15,
   "metadata": {},
   "outputs": [
    {
     "data": {
      "text/plain": [
       "emp_title                          6.19\n",
       "emp_length                         2.71\n",
       "desc                              32.58\n",
       "title                              0.03\n",
       "mths_since_last_delinq            64.66\n",
       "mths_since_last_record            92.99\n",
       "revol_util                         0.13\n",
       "last_pymnt_d                       0.18\n",
       "next_pymnt_d                      97.13\n",
       "last_credit_pull_d                 0.01\n",
       "collections_12_mths_ex_med         0.14\n",
       "mths_since_last_major_derog      100.00\n",
       "annual_inc_joint                 100.00\n",
       "dti_joint                        100.00\n",
       "verification_status_joint        100.00\n",
       "tot_coll_amt                     100.00\n",
       "tot_cur_bal                      100.00\n",
       "open_acc_6m                      100.00\n",
       "open_il_6m                       100.00\n",
       "open_il_12m                      100.00\n",
       "open_il_24m                      100.00\n",
       "mths_since_rcnt_il               100.00\n",
       "total_bal_il                     100.00\n",
       "il_util                          100.00\n",
       "open_rv_12m                      100.00\n",
       "open_rv_24m                      100.00\n",
       "max_bal_bc                       100.00\n",
       "all_util                         100.00\n",
       "total_rev_hi_lim                 100.00\n",
       "inq_fi                           100.00\n",
       "total_cu_tl                      100.00\n",
       "inq_last_12m                     100.00\n",
       "acc_open_past_24mths             100.00\n",
       "avg_cur_bal                      100.00\n",
       "bc_open_to_buy                   100.00\n",
       "bc_util                          100.00\n",
       "chargeoff_within_12_mths           0.14\n",
       "mo_sin_old_il_acct               100.00\n",
       "mo_sin_old_rev_tl_op             100.00\n",
       "mo_sin_rcnt_rev_tl_op            100.00\n",
       "mo_sin_rcnt_tl                   100.00\n",
       "mort_acc                         100.00\n",
       "mths_since_recent_bc             100.00\n",
       "mths_since_recent_bc_dlq         100.00\n",
       "mths_since_recent_inq            100.00\n",
       "mths_since_recent_revol_delinq   100.00\n",
       "num_accts_ever_120_pd            100.00\n",
       "num_actv_bc_tl                   100.00\n",
       "num_actv_rev_tl                  100.00\n",
       "num_bc_sats                      100.00\n",
       "num_bc_tl                        100.00\n",
       "num_il_tl                        100.00\n",
       "num_op_rev_tl                    100.00\n",
       "num_rev_accts                    100.00\n",
       "num_rev_tl_bal_gt_0              100.00\n",
       "num_sats                         100.00\n",
       "num_tl_120dpd_2m                 100.00\n",
       "num_tl_30dpd                     100.00\n",
       "num_tl_90g_dpd_24m               100.00\n",
       "num_tl_op_past_12m               100.00\n",
       "pct_tl_nvr_dlq                   100.00\n",
       "percent_bc_gt_75                 100.00\n",
       "pub_rec_bankruptcies               1.75\n",
       "tax_liens                          0.10\n",
       "tot_hi_cred_lim                  100.00\n",
       "total_bal_ex_mort                100.00\n",
       "total_bc_limit                   100.00\n",
       "total_il_high_credit_limit       100.00\n",
       "dtype: float64"
      ]
     },
     "execution_count": 15,
     "metadata": {},
     "output_type": "execute_result"
    }
   ],
   "source": [
    " #Finding percentage of null or missing values\n",
    "null_perc = round(100*(data.isnull().sum()/len(data.index)), 2)\n",
    "#Printing columns which have more than 0% missing values\n",
    "null_perc[ null_perc > 0 ]"
   ]
  },
  {
   "cell_type": "code",
   "execution_count": 16,
   "metadata": {},
   "outputs": [],
   "source": [
    "#Removing columns which has more than 30% null values in it.\n",
    "data.drop(null_perc[ null_perc > 30 ].index, axis=1, inplace=True)"
   ]
  },
  {
   "cell_type": "code",
   "execution_count": 17,
   "metadata": {},
   "outputs": [
    {
     "data": {
      "text/plain": [
       "tax_liens                     1\n",
       "delinq_amnt                   1\n",
       "chargeoff_within_12_mths      1\n",
       "acc_now_delinq                1\n",
       "application_type              1\n",
       "policy_code                   1\n",
       "collections_12_mths_ex_med    1\n",
       "initial_list_status           1\n",
       "pymnt_plan                    1\n",
       "term                          2\n",
       "pub_rec_bankruptcies          3\n",
       "verification_status           3\n",
       "loan_status                   3\n",
       "pub_rec                       5\n",
       "home_ownership                5\n",
       "dtype: int64"
      ]
     },
     "execution_count": 17,
     "metadata": {},
     "output_type": "execute_result"
    }
   ],
   "source": [
    "#Finding number of unique values in each vcolumn\n",
    "data.nunique().sort_values().head(15)"
   ]
  },
  {
   "cell_type": "code",
   "execution_count": 18,
   "metadata": {},
   "outputs": [],
   "source": [
    "#Dropping Columns with only one values.\n",
    "data.drop(['tax_liens', 'delinq_amnt', 'chargeoff_within_12_mths', 'acc_now_delinq', 'application_type', 'policy_code', 'collections_12_mths_ex_med', 'initial_list_status', 'pymnt_plan'], axis=1, inplace=True)"
   ]
  },
  {
   "cell_type": "code",
   "execution_count": 19,
   "metadata": {
    "scrolled": true
   },
   "outputs": [
    {
     "data": {
      "text/plain": [
       "id                 39717\n",
       "url                39717\n",
       "member_id          39717\n",
       "total_pymnt        37850\n",
       "total_pymnt_inv    37518\n",
       "total_rec_int      35148\n",
       "last_pymnt_amnt    34930\n",
       "emp_title          28820\n",
       "revol_bal          21711\n",
       "title              19615\n",
       "installment        15383\n",
       "funded_amnt_inv     8205\n",
       "dtype: int64"
      ]
     },
     "execution_count": 19,
     "metadata": {},
     "output_type": "execute_result"
    }
   ],
   "source": [
    "#Finding number of unique values, printing high unique valued columns\n",
    "data.nunique().sort_values(ascending=False).head(12)"
   ]
  },
  {
   "cell_type": "markdown",
   "metadata": {},
   "source": [
    "id, url, and member_id having all unique values which means any one of these can be used as primary key. Let's use id primary key and remove url and member id columns.\n"
   ]
  },
  {
   "cell_type": "code",
   "execution_count": 20,
   "metadata": {},
   "outputs": [],
   "source": [
    "data.drop(['member_id', 'url'], axis=1, inplace=True)"
   ]
  },
  {
   "cell_type": "markdown",
   "metadata": {},
   "source": [
    "total_rec_int, total_rec_prncp, total_rec_late_fee, recoveries, collection_recovery_fee, last_credit_pull_d, last_pymnt_d, out_prncp, out_prncp_inv variables are valid for barrowers who already took loan. As we are only interested only in loan application details these columns can be removed. recoveries, collection_recovery_fee columns are only valid for charged off loans. Will removed these colomns."
   ]
  },
  {
   "cell_type": "code",
   "execution_count": 21,
   "metadata": {},
   "outputs": [],
   "source": [
    "data.drop(['total_rec_int', 'total_rec_prncp', 'total_rec_late_fee', 'last_credit_pull_d', 'recoveries', 'collection_recovery_fee', 'last_pymnt_d'], axis=1, inplace=True)\n",
    "data.drop(['out_prncp', 'out_prncp_inv'], axis=1, inplace=True)"
   ]
  },
  {
   "cell_type": "code",
   "execution_count": 22,
   "metadata": {},
   "outputs": [
    {
     "data": {
      "text/plain": [
       "emp_title              6.19\n",
       "emp_length             2.71\n",
       "title                  0.03\n",
       "revol_util             0.13\n",
       "pub_rec_bankruptcies   1.75\n",
       "dtype: float64"
      ]
     },
     "execution_count": 22,
     "metadata": {},
     "output_type": "execute_result"
    }
   ],
   "source": [
    "#Finding percentage of null or missing values\n",
    "null_perc = round(100*(data.isnull().sum()/len(data.index)), 2)\n",
    "null_perc[ null_perc > 0 ]"
   ]
  },
  {
   "cell_type": "markdown",
   "metadata": {},
   "source": [
    "Removing the the null valued rows in the above columns.\n",
    "\n"
   ]
  },
  {
   "cell_type": "code",
   "execution_count": 24,
   "metadata": {},
   "outputs": [
    {
     "data": {
      "text/plain": [
       "emp_title   3.68\n",
       "title       0.03\n",
       "dtype: float64"
      ]
     },
     "execution_count": 24,
     "metadata": {},
     "output_type": "execute_result"
    }
   ],
   "source": [
    "data.dropna(subset=['emp_length', 'revol_util', 'pub_rec_bankruptcies'], inplace=True)\n",
    "#Finding percentage of null or missing values\n",
    "null_perc = round(100*(data.isnull().sum()/len(data.index)), 2)\n",
    "null_perc[ null_perc > 0 ]"
   ]
  },
  {
   "cell_type": "markdown",
   "metadata": {},
   "source": [
    "Loan Status Column has 3 distict values out of them we need only Fully Paid and Charged Off. So, we will remove the rows with Current values in loan status.\n",
    "\n"
   ]
  },
  {
   "cell_type": "code",
   "execution_count": 25,
   "metadata": {},
   "outputs": [],
   "source": [
    "#Removing current loan status rows\n",
    "data = data[data.loan_status != 'Current']"
   ]
  },
  {
   "cell_type": "code",
   "execution_count": 26,
   "metadata": {},
   "outputs": [
    {
     "data": {
      "text/plain": [
       "array([' 36 months', ' 60 months'], dtype=object)"
      ]
     },
     "execution_count": 26,
     "metadata": {},
     "output_type": "execute_result"
    }
   ],
   "source": [
    "#Checking unique values for term column\n",
    "data.term.unique()"
   ]
  },
  {
   "cell_type": "markdown",
   "metadata": {},
   "source": [
    "There is empty space at the start of values. Let's remove it.\n",
    "\n"
   ]
  },
  {
   "cell_type": "code",
   "execution_count": 27,
   "metadata": {},
   "outputs": [
    {
     "data": {
      "text/plain": [
       "array(['36 months', '60 months'], dtype=object)"
      ]
     },
     "execution_count": 27,
     "metadata": {},
     "output_type": "execute_result"
    }
   ],
   "source": [
    "#Stripping empty space in values in term\n",
    "data['term'] = data.term.str.strip()\n",
    "data.term.unique()"
   ]
  },
  {
   "cell_type": "code",
   "execution_count": 28,
   "metadata": {},
   "outputs": [
    {
     "data": {
      "text/plain": [
       "(36800, 33)"
      ]
     },
     "execution_count": 28,
     "metadata": {},
     "output_type": "execute_result"
    }
   ],
   "source": [
    "data.shape\n"
   ]
  },
  {
   "cell_type": "code",
   "execution_count": 29,
   "metadata": {},
   "outputs": [
    {
     "data": {
      "text/plain": [
       "id                        int64\n",
       "loan_amnt                 int64\n",
       "funded_amnt               int64\n",
       "funded_amnt_inv         float64\n",
       "term                     object\n",
       "int_rate                 object\n",
       "installment             float64\n",
       "grade                    object\n",
       "sub_grade                object\n",
       "emp_title                object\n",
       "emp_length               object\n",
       "home_ownership           object\n",
       "annual_inc              float64\n",
       "verification_status      object\n",
       "issue_d                  object\n",
       "loan_status              object\n",
       "purpose                  object\n",
       "title                    object\n",
       "zip_code                 object\n",
       "addr_state               object\n",
       "dti                     float64\n",
       "delinq_2yrs               int64\n",
       "earliest_cr_line         object\n",
       "inq_last_6mths            int64\n",
       "open_acc                  int64\n",
       "pub_rec                   int64\n",
       "revol_bal                 int64\n",
       "revol_util               object\n",
       "total_acc                 int64\n",
       "total_pymnt             float64\n",
       "total_pymnt_inv         float64\n",
       "last_pymnt_amnt         float64\n",
       "pub_rec_bankruptcies    float64\n",
       "dtype: object"
      ]
     },
     "execution_count": 29,
     "metadata": {},
     "output_type": "execute_result"
    }
   ],
   "source": [
    "# Finding datatype in all coulmns\n",
    "data.dtypes"
   ]
  },
  {
   "cell_type": "markdown",
   "metadata": {},
   "source": [
    "int_rate and revol_util are having '%' symbol values and having data type of object. Let's remove % at the end and convert to float\n",
    "\n"
   ]
  },
  {
   "cell_type": "code",
   "execution_count": 30,
   "metadata": {},
   "outputs": [],
   "source": [
    "#stripping '%' value\n",
    "data['int_rate'] = data.int_rate.str.strip('%').astype(float)\n",
    "data['revol_util'] = data.revol_util.str.strip('%').astype(float)"
   ]
  },
  {
   "cell_type": "markdown",
   "metadata": {},
   "source": [
    "issue_d, earliest_cr_line are having date values, let convert column data type to date."
   ]
  },
  {
   "cell_type": "code",
   "execution_count": 31,
   "metadata": {},
   "outputs": [],
   "source": [
    "#converting to date type\n",
    "data['issue_d'] = pd.to_datetime(data.issue_d, format='%b-%y')\n",
    "#if there are any data before unix timestamp they are converted to 21 century values, \n",
    "#so subtracting values more than 2020  with 100 will give more actual time\n",
    "data['issue_d'] = data['issue_d'].apply(lambda x: x-pd.DateOffset(years=100) if x.year > 2020 else x)\n",
    "\n",
    "data['earliest_cr_line'] = pd.to_datetime(data.earliest_cr_line, format='%b-%y')\n",
    "data['earliest_cr_line'] = data['earliest_cr_line'].apply(lambda x: x-pd.DateOffset(years=100) if x.year > 2020 else x)"
   ]
  },
  {
   "cell_type": "code",
   "execution_count": 32,
   "metadata": {},
   "outputs": [
    {
     "data": {
      "text/plain": [
       "id                               int64\n",
       "loan_amnt                        int64\n",
       "funded_amnt                      int64\n",
       "funded_amnt_inv                float64\n",
       "term                            object\n",
       "int_rate                       float64\n",
       "installment                    float64\n",
       "grade                           object\n",
       "sub_grade                       object\n",
       "emp_title                       object\n",
       "emp_length                      object\n",
       "home_ownership                  object\n",
       "annual_inc                     float64\n",
       "verification_status             object\n",
       "issue_d                 datetime64[ns]\n",
       "loan_status                     object\n",
       "purpose                         object\n",
       "title                           object\n",
       "zip_code                        object\n",
       "addr_state                      object\n",
       "dti                            float64\n",
       "delinq_2yrs                      int64\n",
       "earliest_cr_line        datetime64[ns]\n",
       "inq_last_6mths                   int64\n",
       "open_acc                         int64\n",
       "pub_rec                          int64\n",
       "revol_bal                        int64\n",
       "revol_util                     float64\n",
       "total_acc                        int64\n",
       "total_pymnt                    float64\n",
       "total_pymnt_inv                float64\n",
       "last_pymnt_amnt                float64\n",
       "pub_rec_bankruptcies           float64\n",
       "dtype: object"
      ]
     },
     "execution_count": 32,
     "metadata": {},
     "output_type": "execute_result"
    }
   ],
   "source": [
    "# Converted to proper datatypes for analysis\n",
    "data.dtypes"
   ]
  },
  {
   "cell_type": "markdown",
   "metadata": {},
   "source": [
    "Derived Variables: Lets Create new from Date type Columns\n",
    "\n"
   ]
  },
  {
   "cell_type": "code",
   "execution_count": 33,
   "metadata": {},
   "outputs": [],
   "source": [
    "#issue_d column\n",
    "data['issue_d_year'] = data.issue_d.dt.year\n",
    "data['issue_d_month'] = data.issue_d.dt.strftime('%b')\n",
    "data['issue_d_weekday'] = data.issue_d.dt.weekday\n",
    "#data type conversion of year and weekday\n",
    "data['issue_d_year'] = data['issue_d_year'].astype(object)\n",
    "data['issue_d_weekday'] = data['issue_d_weekday'].astype(object)\n",
    "\n",
    "#earliest_cr_line\n",
    "data['earliest_cr_line_year'] = data.earliest_cr_line.dt.year\n",
    "data['earliest_cr_line_month'] = data.earliest_cr_line.dt.strftime('%b')\n",
    "#data type conversion of year and weekday\n",
    "data['earliest_cr_line_year'] = data['earliest_cr_line_year'].astype(object)"
   ]
  },
  {
   "cell_type": "markdown",
   "metadata": {},
   "source": [
    "Creating Approved Loan amount ratio which is a ratio of Funded Amount by investor to Requested Loan amount.\n",
    "\n"
   ]
  },
  {
   "cell_type": "code",
   "execution_count": 34,
   "metadata": {},
   "outputs": [],
   "source": [
    "data['approved_loan_amnt_ratio'] = round(data.funded_amnt_inv*100/data.loan_amnt,2)"
   ]
  },
  {
   "cell_type": "code",
   "execution_count": 35,
   "metadata": {},
   "outputs": [
    {
     "data": {
      "text/plain": [
       "id                                   int64\n",
       "loan_amnt                            int64\n",
       "funded_amnt                          int64\n",
       "funded_amnt_inv                    float64\n",
       "term                                object\n",
       "int_rate                           float64\n",
       "installment                        float64\n",
       "grade                               object\n",
       "sub_grade                           object\n",
       "emp_title                           object\n",
       "emp_length                          object\n",
       "home_ownership                      object\n",
       "annual_inc                         float64\n",
       "verification_status                 object\n",
       "issue_d                     datetime64[ns]\n",
       "loan_status                         object\n",
       "purpose                             object\n",
       "title                               object\n",
       "zip_code                            object\n",
       "addr_state                          object\n",
       "dti                                float64\n",
       "delinq_2yrs                          int64\n",
       "earliest_cr_line            datetime64[ns]\n",
       "inq_last_6mths                       int64\n",
       "open_acc                             int64\n",
       "pub_rec                              int64\n",
       "revol_bal                            int64\n",
       "revol_util                         float64\n",
       "total_acc                            int64\n",
       "total_pymnt                        float64\n",
       "total_pymnt_inv                    float64\n",
       "last_pymnt_amnt                    float64\n",
       "pub_rec_bankruptcies               float64\n",
       "issue_d_year                        object\n",
       "issue_d_month                       object\n",
       "issue_d_weekday                     object\n",
       "earliest_cr_line_year               object\n",
       "earliest_cr_line_month              object\n",
       "approved_loan_amnt_ratio           float64\n",
       "dtype: object"
      ]
     },
     "execution_count": 35,
     "metadata": {},
     "output_type": "execute_result"
    }
   ],
   "source": [
    "# Converted date formats for analysis\n",
    "data.dtypes"
   ]
  },
  {
   "cell_type": "markdown",
   "metadata": {},
   "source": [
    "# Term"
   ]
  },
  {
   "cell_type": "code",
   "execution_count": 36,
   "metadata": {},
   "outputs": [
    {
     "data": {
      "image/png": "[encoded data removed]",
      "text/plain": [
       "<Figure size 432x288 with 1 Axes>"
      ]
     },
     "metadata": {
      "needs_background": "light"
     },
     "output_type": "display_data"
    }
   ],
   "source": [
    "var = 'term'\n",
    "#Probability / Percentage of each values\n",
    "prob_df = data[var].value_counts(normalize=True).reset_index()\n",
    "\n",
    "sns.barplot(x='index', y=var, data=prob_df)\n",
    "plt.xlabel(var)\n",
    "plt.ylabel('Proportion')\n",
    "plt.title(var+' Distribution')\n",
    "plt.show()"
   ]
  },
  {
   "cell_type": "markdown",
   "metadata": {},
   "source": [
    "Observations:Barrowrs have taken 36 months tenure more than 60 months.\n"
   ]
  },
  {
   "cell_type": "markdown",
   "metadata": {},
   "source": [
    "Grade\n"
   ]
  },
  {
   "cell_type": "code",
   "execution_count": 37,
   "metadata": {},
   "outputs": [
    {
     "data": {
      "image/png": "[encoded data removed]",
      "text/plain": [
       "<Figure size 432x288 with 1 Axes>"
      ]
     },
     "metadata": {
      "needs_background": "light"
     },
     "output_type": "display_data"
    }
   ],
   "source": [
    "var = 'grade'\n",
    "#Probability / Percentage of each values\n",
    "prob_df = data[var].value_counts(normalize=True).reset_index()\n",
    "\n",
    "sns.barplot(x='index', y=var, data=prob_df)\n",
    "plt.xlabel(var)\n",
    "plt.ylabel('Proportion')\n",
    "plt.title(var+' Distribution')\n",
    "plt.show()"
   ]
  },
  {
   "cell_type": "markdown",
   "metadata": {},
   "source": [
    "Observations:\n",
    "Most borrowers fall under A and B grades then other grades"
   ]
  },
  {
   "cell_type": "markdown",
   "metadata": {},
   "source": [
    "Sub Grade\n"
   ]
  },
  {
   "cell_type": "code",
   "execution_count": 40,
   "metadata": {},
   "outputs": [
    {
     "name": "stderr",
     "output_type": "stream",
     "text": [
      "C:\\Users\\sai sudeep\\anaconda3\\lib\\site-packages\\seaborn\\_decorators.py:36: FutureWarning: Pass the following variable as a keyword arg: x. From version 0.12, the only valid positional argument will be `data`, and passing other arguments without an explicit keyword will result in an error or misinterpretation.\n",
      "  warnings.warn(\n"
     ]
    },
    {
     "data": {
      "image/png": "[encoded data removed]",
      "text/plain": [
       "<Figure size 1440x288 with 1 Axes>"
      ]
     },
     "metadata": {
      "needs_background": "light"
     },
     "output_type": "display_data"
    }
   ],
   "source": [
    "plt.figure(figsize=(20,4))\n",
    "sns.countplot(data.sub_grade, order=data.sub_grade.value_counts().index)\n",
    "plt.title('Count vs Sub Grade')\n",
    "plt.xlabel('Sub Grade')\n",
    "plt.ylabel('Count')\n",
    "plt.show()"
   ]
  },
  {
   "cell_type": "markdown",
   "metadata": {},
   "source": [
    "Employment length\n"
   ]
  },
  {
   "cell_type": "code",
   "execution_count": 41,
   "metadata": {
    "scrolled": true
   },
   "outputs": [
    {
     "data": {
      "image/png": "[encoded data removed]",
      "text/plain": [
       "<Figure size 720x288 with 1 Axes>"
      ]
     },
     "metadata": {
      "needs_background": "light"
     },
     "output_type": "display_data"
    }
   ],
   "source": [
    "plt.figure(figsize=(10,4))\n",
    "var = 'emp_length'\n",
    "#Probability / Percentage of each values\n",
    "prob_df = data[var].value_counts(normalize=True).reset_index()\n",
    "\n",
    "sns.barplot(x='index', y=var, data=prob_df)\n",
    "plt.xlabel(var)\n",
    "plt.ylabel('Proportion')\n",
    "plt.title(var+' Distribution')\n",
    "plt.show()"
   ]
  },
  {
   "cell_type": "markdown",
   "metadata": {},
   "source": [
    "Observations:\n",
    "Borrowers are mostly 10+ years emploment length."
   ]
  },
  {
   "cell_type": "markdown",
   "metadata": {},
   "source": [
    "Home Ownership\n"
   ]
  },
  {
   "cell_type": "code",
   "execution_count": 42,
   "metadata": {},
   "outputs": [
    {
     "data": {
      "image/png": "[encoded data removed]",
      "text/plain": [
       "<Figure size 432x288 with 1 Axes>"
      ]
     },
     "metadata": {
      "needs_background": "light"
     },
     "output_type": "display_data"
    }
   ],
   "source": [
    "var = 'home_ownership'\n",
    "#Probability / Percentage of each values\n",
    "prob_df = data[var].value_counts(normalize=True).reset_index()\n",
    "#Plotting percentage proporation vs home ownership\n",
    "sns.barplot(x='index', y=var, data=prob_df)\n",
    "plt.xlabel(var)\n",
    "plt.ylabel('Proportion')\n",
    "plt.title(var+' Distribution')\n",
    "plt.show()"
   ]
  },
  {
   "cell_type": "markdown",
   "metadata": {},
   "source": [
    "Observations:\n",
    "The loan borrowers are mostly having rented and mortgage houses.\n"
   ]
  },
  {
   "cell_type": "markdown",
   "metadata": {},
   "source": [
    "Purpose\n"
   ]
  },
  {
   "cell_type": "code",
   "execution_count": 43,
   "metadata": {},
   "outputs": [
    {
     "data": {
      "image/png": "[encoded data removed]",
      "text/plain": [
       "<Figure size 864x288 with 1 Axes>"
      ]
     },
     "metadata": {
      "needs_background": "light"
     },
     "output_type": "display_data"
    }
   ],
   "source": [
    "plt.figure(figsize=(12,4))\n",
    "var = 'purpose'\n",
    "#Probability / Percentage of each values\n",
    "prob_df = data[var].value_counts(normalize=True).reset_index()\n",
    "\n",
    "sns.barplot(x='index', y=var, data=prob_df)\n",
    "plt.xlabel(var)\n",
    "plt.xticks(rotation=90)\n",
    "plt.ylabel('Proportion')\n",
    "plt.title(var+' Distribution')\n",
    "plt.show()"
   ]
  },
  {
   "cell_type": "markdown",
   "metadata": {},
   "source": [
    "Observations:\n",
    "Looks line more number of people took loan for debt consolidation and a very few people took for renewable energy"
   ]
  },
  {
   "cell_type": "markdown",
   "metadata": {},
   "source": [
    "Borrower's State \n"
   ]
  },
  {
   "cell_type": "code",
   "execution_count": 44,
   "metadata": {},
   "outputs": [
    {
     "data": {
      "image/png": "[encoded data removed]",
      "text/plain": [
       "<Figure size 1440x288 with 1 Axes>"
      ]
     },
     "metadata": {
      "needs_background": "light"
     },
     "output_type": "display_data"
    }
   ],
   "source": [
    "plt.figure(figsize=(20,4))\n",
    "var = 'addr_state'\n",
    "#Probability / Percentage of each values\n",
    "prob_df = data[var].value_counts(normalize=True).reset_index()\n",
    "\n",
    "sns.barplot(x='index', y=var, data=prob_df)\n",
    "plt.xlabel(var)\n",
    "plt.ylabel('Proportion')\n",
    "plt.title(var+' Distribution')\n",
    "plt.show()"
   ]
  },
  {
   "cell_type": "markdown",
   "metadata": {},
   "source": [
    "Observations:\n",
    "Most of the borrowers are from CA and NY"
   ]
  },
  {
   "cell_type": "markdown",
   "metadata": {},
   "source": [
    "# Loan Amount\n"
   ]
  },
  {
   "cell_type": "code",
   "execution_count": 46,
   "metadata": {},
   "outputs": [
    {
     "data": {
      "text/plain": [
       "<AxesSubplot:title={'center':'Grade vs Loan Amount'}, xlabel='grade', ylabel='loan_amnt'>"
      ]
     },
     "execution_count": 46,
     "metadata": {},
     "output_type": "execute_result"
    },
    {
     "data": {
      "image/png": "[encoded data removed]",
      "text/plain": [
       "<Figure size 1440x360 with 2 Axes>"
      ]
     },
     "metadata": {
      "needs_background": "light"
     },
     "output_type": "display_data"
    }
   ],
   "source": [
    "plt.figure(figsize=(20,5))\n",
    "plt.subplot(121)\n",
    "sns.boxplot(x='term', y=data.loan_amnt, data=data)\n",
    "plt.title('Terms vs Loan Amount')\n",
    "plt.subplot(122)\n",
    "plt.title('Grade vs Loan Amount')\n",
    "#Finding grades with sorted alphabetical order\n",
    "grade_ord = data.grade.unique()\n",
    "grade_ord.sort()\n",
    "sns.boxplot(x='grade', y=data.loan_amnt, order = grade_ord, data=data)\n"
   ]
  },
  {
   "cell_type": "markdown",
   "metadata": {},
   "source": [
    "Observations:\n",
    "Higher amount loans have high tenure i.e, 60 months.\n",
    "Grade 'G' and 'H' have taken max loan amount. As Grades are decreasing the loan amount is increasing."
   ]
  },
  {
   "cell_type": "markdown",
   "metadata": {},
   "source": [
    "Purpose VS Loan Amount"
   ]
  },
  {
   "cell_type": "code",
   "execution_count": 47,
   "metadata": {},
   "outputs": [
    {
     "data": {
      "text/plain": [
       "Text(0.5, 1.0, 'purpose vs Loan Amount')"
      ]
     },
     "execution_count": 47,
     "metadata": {},
     "output_type": "execute_result"
    },
    {
     "data": {
      "image/png": "[encoded data removed]",
      "text/plain": [
       "<Figure size 1440x360 with 1 Axes>"
      ]
     },
     "metadata": {
      "needs_background": "light"
     },
     "output_type": "display_data"
    }
   ],
   "source": [
    "plt.figure(figsize=(20,5))\n",
    "sns.boxplot(x='purpose', y=data.loan_amnt, data=data)\n",
    "#Rotating x values 90 for better visibility\n",
    "plt.xticks(rotation=90)\n",
    "plt.title('purpose vs Loan Amount')"
   ]
  },
  {
   "cell_type": "markdown",
   "metadata": {},
   "source": [
    "Observations:\n",
    "More loan amount is from Small bussiness followed by debt consolidation."
   ]
  },
  {
   "cell_type": "code",
   "execution_count": 49,
   "metadata": {},
   "outputs": [
    {
     "data": {
      "text/plain": [
       "<AxesSubplot:title={'center':'Grade vs funded amount'}, xlabel='grade', ylabel='funded_amnt'>"
      ]
     },
     "execution_count": 49,
     "metadata": {},
     "output_type": "execute_result"
    },
    {
     "data": {
      "image/png": "[encoded data removed]",
      "text/plain": [
       "<Figure size 1440x360 with 2 Axes>"
      ]
     },
     "metadata": {
      "needs_background": "light"
     },
     "output_type": "display_data"
    }
   ],
   "source": [
    "plt.figure(figsize=(20,5))\n",
    "plt.subplot(121)\n",
    "sns.boxplot(x='term', y=data.funded_amnt, data=data)\n",
    "plt.title('Terms vs funded amount')\n",
    "plt.subplot(122)\n",
    "plt.title('Grade vs funded amount')\n",
    "grade_ord = data.grade.unique()\n",
    "grade_ord.sort()\n",
    "sns.boxplot(x='grade', y=data.funded_amnt, order = grade_ord, data=data)"
   ]
  },
  {
   "cell_type": "markdown",
   "metadata": {},
   "source": [
    "Loan Status VS Interest Rate"
   ]
  },
  {
   "cell_type": "code",
   "execution_count": 50,
   "metadata": {},
   "outputs": [
    {
     "data": {
      "text/plain": [
       "Text(0.5, 1.0, 'loan_status vs Interest Rate')"
      ]
     },
     "execution_count": 50,
     "metadata": {},
     "output_type": "execute_result"
    },
    {
     "data": {
      "image/png": "[encoded data removed]",
      "text/plain": [
       "<Figure size 432x288 with 1 Axes>"
      ]
     },
     "metadata": {
      "needs_background": "light"
     },
     "output_type": "display_data"
    }
   ],
   "source": [
    "sns.boxplot(x='loan_status', y=data.int_rate, data=data)\n",
    "plt.title('loan_status vs Interest Rate')"
   ]
  },
  {
   "cell_type": "markdown",
   "metadata": {},
   "source": [
    "Grade Vs Loan Status"
   ]
  },
  {
   "cell_type": "code",
   "execution_count": 52,
   "metadata": {},
   "outputs": [],
   "source": [
    "#Sorting Grades from A to G\n",
    "grade_ord = data.grade.unique()\n",
    "grade_ord.sort()"
   ]
  },
  {
   "cell_type": "code",
   "execution_count": 53,
   "metadata": {},
   "outputs": [
    {
     "data": {
      "text/plain": [
       "Text(0.5, 1.0, 'Grade vs Loan status')"
      ]
     },
     "execution_count": 53,
     "metadata": {},
     "output_type": "execute_result"
    },
    {
     "data": {
      "image/png": "[encoded data removed]",
      "text/plain": [
       "<Figure size 864x360 with 1 Axes>"
      ]
     },
     "metadata": {
      "needs_background": "light"
     },
     "output_type": "display_data"
    }
   ],
   "source": [
    "df = data.groupby(['grade', 'loan_status'], as_index=False)['id'].count()\n",
    "df['percentage'] = df.groupby('grade').transform(lambda x: x/x.sum())\n",
    "plt.figure(figsize=(12,5))\n",
    "sns.barplot(x='grade', y='percentage', hue='loan_status', data=df, hue_order = ['Fully Paid', 'Charged Off'])\n",
    "plt.title('Grade vs Loan status')"
   ]
  },
  {
   "cell_type": "markdown",
   "metadata": {},
   "source": [
    "Observations:\n",
    "The above graph clearly says the Charged off increases as grades decreases."
   ]
  },
  {
   "cell_type": "code",
   "execution_count": null,
   "metadata": {},
   "outputs": [],
   "source": []
  }
 ],
 "metadata": {
  "kernelspec": {
   "display_name": "Python 3",
   "language": "python",
   "name": "python3"
  },
  "language_info": {
   "codemirror_mode": {
    "name": "ipython",
    "version": 3
   },
   "file_extension": ".py",
   "mimetype": "text/x-python",
   "name": "python",
   "nbconvert_exporter": "python",
   "pygments_lexer": "ipython3",
   "version": "3.8.5"
  }
 },
 "nbformat": 4,
 "nbformat_minor": 4
}
